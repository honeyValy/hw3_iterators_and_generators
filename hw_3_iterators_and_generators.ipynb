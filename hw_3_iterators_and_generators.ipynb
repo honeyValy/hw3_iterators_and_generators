{
 "cells": [
  {
   "cell_type": "markdown",
   "id": "7ae9d7bb",
   "metadata": {},
   "source": [
    "# Домашнее задание «Итераторы, генераторы»"
   ]
  },
  {
   "cell_type": "markdown",
   "id": "23a2d223",
   "metadata": {},
   "source": [
    "### 1 Доработать класс FlatIterator в коде ниже. Должен получиться итератор, который принимает список списков и возвращает их плоское представление, т. е. последовательность, состоящую из вложенных элементов. Функция test в коде ниже также должна отработать без ошибок."
   ]
  },
  {
   "cell_type": "code",
   "execution_count": 90,
   "id": "b78368e9",
   "metadata": {},
   "outputs": [],
   "source": [
    "class FlatIterator:\n",
    "\n",
    "    def __init__(self, list_of_list):\n",
    "        self.list_of_list = list_of_list\n",
    "        \n",
    "\n",
    "    def __iter__(self):\n",
    "        self.len_list = len(self.list_of_list)\n",
    "        self.len_item = len(self.list_of_list[0])\n",
    "        self.cur_list = 0\n",
    "        self.cur_item = -1\n",
    "        return self\n",
    "\n",
    "    def __next__(self):\n",
    "        if (self.cur_item + 1 < self.len_item):\n",
    "            self.cur_item += 1\n",
    "        elif self.cur_list + 1 < self.len_list:\n",
    "            self.cur_list += 1\n",
    "            self.cur_item = 0\n",
    "            self.len_item = len(self.list_of_list[self.cur_list])\n",
    "        else:\n",
    "            raise StopIteration\n",
    "     \n",
    "        return self.list_of_list[self.cur_list][self.cur_item]"
   ]
  },
  {
   "cell_type": "code",
   "execution_count": 91,
   "id": "d90bc747",
   "metadata": {},
   "outputs": [
    {
     "name": "stdout",
     "output_type": "stream",
     "text": [
      "a\n",
      "b\n",
      "c\n",
      "d\n",
      "e\n",
      "f\n",
      "h\n",
      "False\n",
      "1\n",
      "2\n",
      "None\n"
     ]
    }
   ],
   "source": [
    "for i in FlatIterator(list_of_lists_1):\n",
    "    print(i)"
   ]
  },
  {
   "cell_type": "code",
   "execution_count": 92,
   "id": "47e0ce48",
   "metadata": {},
   "outputs": [],
   "source": [
    "def test_1():\n",
    "\n",
    "    list_of_lists_1 = [\n",
    "        ['a', 'b', 'c'],\n",
    "        ['d', 'e', 'f', 'h', False],\n",
    "        [1, 2, None]\n",
    "    ]\n",
    "\n",
    "    for flat_iterator_item, check_item in zip(\n",
    "            FlatIterator(list_of_lists_1),\n",
    "            ['a', 'b', 'c', 'd', 'e', 'f', 'h', False, 1, 2, None]\n",
    "    ):\n",
    "\n",
    "        assert flat_iterator_item == check_item\n",
    "\n",
    "    assert list(FlatIterator(list_of_lists_1)) == ['a', 'b', 'c', 'd', 'e', 'f', 'h', False, 1, 2, None]\n"
   ]
  },
  {
   "cell_type": "code",
   "execution_count": 94,
   "id": "8c7f8c2b",
   "metadata": {},
   "outputs": [],
   "source": [
    "test_1()"
   ]
  },
  {
   "cell_type": "markdown",
   "id": "803f14a2",
   "metadata": {},
   "source": [
    "### 2 Доработать функцию flat_generator. Должен получиться генератор, который принимает список списков и возвращает их плоское представление. Функция test в коде ниже также должна отработать без ошибок."
   ]
  },
  {
   "cell_type": "code",
   "execution_count": 96,
   "id": "4c1f77c2",
   "metadata": {},
   "outputs": [],
   "source": [
    "def flat_generator(list_of_lists):\n",
    "    for l in list_of_lists:\n",
    "        for item in l: \n",
    "            yield item\n",
    "    "
   ]
  },
  {
   "cell_type": "code",
   "execution_count": 97,
   "id": "f6407d62",
   "metadata": {},
   "outputs": [
    {
     "name": "stdout",
     "output_type": "stream",
     "text": [
      "a\n",
      "b\n",
      "c\n",
      "d\n",
      "e\n",
      "f\n",
      "h\n",
      "False\n",
      "1\n",
      "2\n",
      "None\n"
     ]
    }
   ],
   "source": [
    "for item in flat_generator(list_of_lists_1):\n",
    "    print(item)"
   ]
  },
  {
   "cell_type": "code",
   "execution_count": 100,
   "id": "7bd3d5c9",
   "metadata": {},
   "outputs": [],
   "source": [
    "import types\n",
    "def test_2():\n",
    "\n",
    "    list_of_lists_1 = [\n",
    "        ['a', 'b', 'c'],\n",
    "        ['d', 'e', 'f', 'h', False],\n",
    "        [1, 2, None]\n",
    "    ]\n",
    "\n",
    "    for flat_iterator_item, check_item in zip(\n",
    "            flat_generator(list_of_lists_1),\n",
    "            ['a', 'b', 'c', 'd', 'e', 'f', 'h', False, 1, 2, None]\n",
    "    ):\n",
    "\n",
    "        assert flat_iterator_item == check_item\n",
    "\n",
    "    assert list(flat_generator(list_of_lists_1)) == ['a', 'b', 'c', 'd', 'e', 'f', 'h', False, 1, 2, None]\n",
    "\n",
    "    assert isinstance(flat_generator(list_of_lists_1), types.GeneratorType)"
   ]
  },
  {
   "cell_type": "code",
   "execution_count": 101,
   "id": "15364ad3",
   "metadata": {},
   "outputs": [],
   "source": [
    "test_2()"
   ]
  },
  {
   "cell_type": "markdown",
   "id": "032e3a6a",
   "metadata": {},
   "source": [
    "### 4.* Необязательное задание. Написать генератор, аналогичный генератору из задания 2, но обрабатывающий списки с любым уровнем вложенности. Шаблон и тест в коде ниже:"
   ]
  },
  {
   "cell_type": "code",
   "execution_count": 112,
   "id": "3db8ba1c",
   "metadata": {},
   "outputs": [],
   "source": [
    "def flat_generator(list_of_lists) :\n",
    "\n",
    "    for i in list_of_lists:\n",
    "        if isinstance(i, list):\n",
    "            yield from flat_generator(i)\n",
    "        else:\n",
    "            yield i"
   ]
  },
  {
   "cell_type": "code",
   "execution_count": 113,
   "id": "ea303b18",
   "metadata": {},
   "outputs": [],
   "source": [
    "list_of_lists_2 = [\n",
    "        [['a'], ['b', 'c']],\n",
    "        ['d', 'e', [['f'], 'h'], False],\n",
    "        [1, 2, None, [[[[['!']]]]], []]\n",
    "    ]"
   ]
  },
  {
   "cell_type": "code",
   "execution_count": 114,
   "id": "43ce3930",
   "metadata": {},
   "outputs": [
    {
     "name": "stdout",
     "output_type": "stream",
     "text": [
      "a\n",
      "b\n",
      "c\n",
      "d\n",
      "e\n",
      "f\n",
      "h\n",
      "False\n",
      "1\n",
      "2\n",
      "None\n",
      "!\n"
     ]
    }
   ],
   "source": [
    "for item in flat_generator(list_of_lists_2):\n",
    "    print(item)"
   ]
  },
  {
   "cell_type": "code",
   "execution_count": 115,
   "id": "fe6e8db9",
   "metadata": {},
   "outputs": [],
   "source": [
    "def test_4():\n",
    "\n",
    "    list_of_lists_2 = [\n",
    "        [['a'], ['b', 'c']],\n",
    "        ['d', 'e', [['f'], 'h'], False],\n",
    "        [1, 2, None, [[[[['!']]]]], []]\n",
    "    ]\n",
    "\n",
    "    for flat_iterator_item, check_item in zip(\n",
    "            flat_generator(list_of_lists_2),\n",
    "            ['a', 'b', 'c', 'd', 'e', 'f', 'h', False, 1, 2, None, '!']\n",
    "    ):\n",
    "\n",
    "        assert flat_iterator_item == check_item\n",
    "\n",
    "    assert list(flat_generator(list_of_lists_2)) == ['a', 'b', 'c', 'd', 'e', 'f', 'h', False, 1, 2, None, '!']\n",
    "\n",
    "    assert isinstance(flat_generator(list_of_lists_2), types.GeneratorType)"
   ]
  },
  {
   "cell_type": "code",
   "execution_count": 116,
   "id": "e3e4c69a",
   "metadata": {},
   "outputs": [],
   "source": [
    "test_4()"
   ]
  }
 ],
 "metadata": {
  "kernelspec": {
   "display_name": "Python 3",
   "language": "python",
   "name": "python3"
  },
  "language_info": {
   "codemirror_mode": {
    "name": "ipython",
    "version": 3
   },
   "file_extension": ".py",
   "mimetype": "text/x-python",
   "name": "python",
   "nbconvert_exporter": "python",
   "pygments_lexer": "ipython3",
   "version": "3.9.2"
  }
 },
 "nbformat": 4,
 "nbformat_minor": 5
}
